{
  "cells": [
    {
      "cell_type": "markdown",
      "metadata": {
        "id": "view-in-github",
        "colab_type": "text"
      },
      "source": [
        "<a href=\"https://colab.research.google.com/github/ddPn08/automatic1111-colab/blob/main/automatic1111.ipynb\" target=\"_parent\"><img src=\"https://colab.research.google.com/assets/colab-badge.svg\" alt=\"Open In Colab\"/></a>"
      ]
    },
    {
      "cell_type": "markdown",
      "metadata": {
        "id": "A6OFCYOzNjDX"
      },
      "source": [
        "# [Stable Diffusion WebUI Colab](https://github.com/ddPn08/stable-diffusion-webui-colab) by [ddPn08](https://github.com/ddpn08/)\n",
        "\n",
        "This colab runs from the repo [`automatic1111`](https://github.com/AUTOMATIC1111/stable-diffusion-webui)  \n",
        "このColabは[`automatic1111`](https://github.com/AUTOMATIC1111/stable-diffusion-webui) を使用しています。\n"
      ]
    },
    {
      "cell_type": "markdown",
      "metadata": {
        "id": "TE45Pqn_N81E"
      },
      "source": [
        "## 1 - Setup"
      ]
    },
    {
      "cell_type": "code",
      "execution_count": null,
      "metadata": {
        "id": "Y4xxtQfuJiWM"
      },
      "outputs": [],
      "source": [
        "! nvidia-smi\n",
        "! free -h"
      ]
    },
    {
      "cell_type": "markdown",
      "metadata": {
        "id": "4cXkcQu6OEAu"
      },
      "source": [
        "### 1.1 Setup webui"
      ]
    },
    {
      "cell_type": "code",
      "execution_count": null,
      "metadata": {
        "cellView": "form",
        "id": "yzdbQDudNZ6j"
      },
      "outputs": [],
      "source": [
        "# @markdown ## Install dependencies\n",
        "\n",
        "%cd /content/\n",
        "repository_url = \"https://github.com/AUTOMATIC1111/stable-diffusion-webui\"  # @param {type: \"string\"}\n",
        "webui_branch = \"master\"  # @param {type: \"string\"}\n",
        "\n",
        "use_xformers = False  # @param {type: \"boolean\"}\n",
        "# @markdown * Xformers library is an optional way to speedup your image generation. (It takes a little longer to set up.)\n",
        "# @markdown > Xformersライブラリは、イメージ生成を高速化するためのオプションの方法です。 (セットアップにかかる時間が少し長くなります。)\n",
        "\n",
        "! pip install pyngrok\n",
        "\n",
        "! git clone {repository_url}\n",
        "%cd /content/stable-diffusion-webui\n",
        "! git checkout {webui_branch}\n",
        "\n",
        "if use_xformers:\n",
        "    import sys\n",
        "    ! curl -O https://repo.anaconda.com/miniconda/Miniconda3-latest-Linux-x86_64.sh\n",
        "    ! chmod +x Miniconda3-latest-Linux-x86_64.sh\n",
        "    ! bash ./Miniconda3-latest-Linux-x86_64.sh -b -f -p /usr/local\n",
        "    sys.path.append(\"/usr/local/lib/python3.8/site-packages/\")\n",
        "    ! rm Miniconda3-latest-Linux-x86_64.sh\n",
        "    ! conda env update -n base -f environment-wsl2.yaml\n",
        "    ! conda install -y xformers -c xformers/label/dev\n",
        "else:\n",
        "    ! pip install torch --extra-index-url https://download.pytorch.org/whl/cu113\n",
        "\n",
        "! mkdir repositories\n",
        "! git clone https://github.com/CompVis/stable-diffusion.git repositories/stable-diffusion\n",
        "! git clone https://github.com/CompVis/taming-transformers.git repositories/taming-transformers\n",
        "! git clone https://github.com/sczhou/CodeFormer.git repositories/CodeFormer\n",
        "! git clone https://github.com/salesforce/BLIP.git repositories/BLIP\n",
        "\n",
        "! pip install transformers==4.19.2 diffusers invisible-watermark --prefer-binary\n",
        "! pip install git+https://github.com/crowsonkb/k-diffusion.git --prefer-binary\n",
        "! pip install git+https://github.com/TencentARC/GFPGAN.git --prefer-binary\n",
        "! pip install -r repositories/CodeFormer/requirements.txt --prefer-binary\n",
        "! pip install -r requirements.txt  --prefer-binary\n",
        "! pip install -U numpy  --prefer-binary"
      ]
    },
    {
      "cell_type": "markdown",
      "metadata": {
        "id": "tOHgDng2c0FX"
      },
      "source": [
        "### 1.2 Setup models"
      ]
    },
    {
      "cell_type": "code",
      "execution_count": null,
      "metadata": {
        "cellView": "form",
        "id": "Mls4_48XOrTd"
      },
      "outputs": [],
      "source": [
        "# @markdown # Load the stable-diffusion model\n",
        "# @markdown > ### stable-diffusionのモデルをロード\n",
        "\n",
        "# @markdown **Model Path Variables**\n",
        "# ask for the link\n",
        "%cd /content/\n",
        "print(\"Local Path Variables:\\n\")\n",
        "\n",
        "model_filename = \"sd-v1-4.ckpt\"  # @param {type:\"string\"}\n",
        "models_path = \"/content/models\"  # @param {type:\"string\"}\n",
        "output_path = \"/content/output\"  # @param {type:\"string\"}\n",
        "config_path = \"/content/config\"  # @param {type:\"string\"}\n",
        "embeddings_path = \"/content/embeddings\"  # @param {type:\"string\"}\n",
        "\n",
        "# @markdown **Optional | Download the model if it isn't already in the `models_path` folder**\n",
        "# @markdown > モデルが`models_path`フォルダーにない場合に、モデルをダウンロードする\n",
        "\n",
        "# @markdown To download the model, you need to have accepted the terms [HERE](https://huggingface.co/CompVis/stable-diffusion-v-1-4-original)\n",
        "# @markdown and have copied a token from [HERE](https://huggingface.co/settings/tokens)\n",
        "\n",
        "# @markdown > モデルをダウンロードするには, [このページ](https://huggingface.co/CompVis/stable-diffusion-v-1-4-original)で条件に同意する必要があります。\n",
        "# @markdown > また、[このページ](https://huggingface.co/settings/tokens)からトークンを取得する必要があります。\n",
        "download_if_missing = False  # @param {type:\"boolean\"}\n",
        "model_url = \"https://huggingface.co/CompVis/stable-diffusion-v-1-4-original/resolve/main/sd-v1-4.ckpt\"  # @param {type:\"string\"}\n",
        "token = \"\"  # @param {type:\"string\"}\n",
        "\n",
        "# @markdown ***Optional | Google Drive Path Variables**\n",
        "mount_google_drive = True  # @param {type:\"boolean\"}\n",
        "force_remount = False\n",
        "\n",
        "import os\n",
        "\n",
        "mount_success = True\n",
        "if mount_google_drive:\n",
        "    from google.colab import drive\n",
        "\n",
        "    try:\n",
        "        drive_path = \"/content/drive\"\n",
        "        drive.mount(drive_path, force_remount=force_remount)\n",
        "        models_path_gdrive = \"/content/drive/MyDrive/AI/models\"  # @param {type:\"string\"}\n",
        "        output_path_gdrive = \"/content/drive/MyDrive/AI/automatic1111/outputs\"  # @param {type:\"string\"}\n",
        "        config_path_gdrive = \"/content/drive/MyDrive/AI/automatic1111/config\"  # @param {type:\"string\"}\n",
        "        \n",
        "        embeddings_path_gdrive = \"/content/drive/MyDrive/AI/automatic1111/embeddings\"  # @param {type:\"string\"}\n",
        "        models_path = models_path_gdrive\n",
        "        output_path = output_path_gdrive\n",
        "        config_path = config_path_gdrive\n",
        "        embeddings_path = embeddings_path_gdrive\n",
        "    except:\n",
        "        print(\"...error mounting drive or with drive path variables\")\n",
        "        print(\"...reverting to default path variables\")\n",
        "        mount_success = False\n",
        "\n",
        "os.makedirs(models_path, exist_ok=True)\n",
        "os.makedirs(output_path, exist_ok=True)\n",
        "os.makedirs(config_path, exist_ok=True)\n",
        "os.makedirs(embeddings_path, exist_ok=True)\n",
        "\n",
        "if os.path.exists(f\"{models_path}/hypernetworks\"):\n",
        "    ! ln -s {models_path}/hypernetworks stable-diffusion-webui/models/hypernetworks\n",
        "\n",
        "if not os.path.exists(f\"{config_path}/config.json\"):\n",
        "    with open(f\"{config_path}/config.json\", mode=\"w\") as f:\n",
        "        f.write('{\"outdir_samples\": \"' + output_path + '\"}')\n",
        "\n",
        "if download_if_missing:\n",
        "    if not mount_success:\n",
        "        print(\"Downloading model to \" + models_path + \" due to gdrive mount error\")\n",
        "    elif not os.path.exists(models_path + \"/\" + model_filename):\n",
        "        ! mkdir sd-model\n",
        "        %cd /content/sd-model/\n",
        "        ! curl -LJ  {model_url} -o {model_filename} {'-H \"Authorization: Bearer ' + token + '\"' if token else \"\"}\n",
        "        ! mv /content/sd-model/{model_filename} {models_path}/\n",
        "        %cd /content/\n",
        "    else:\n",
        "        print(\"Model already downloaded, moving to next step\")\n",
        "\n",
        "%cd /content/stable-diffusion-webui\n",
        "! curl -LOJ https://github.com/TencentARC/GFPGAN/releases/download/v1.3.0/GFPGANv1.3.pth\n",
        "\n",
        "print(f\"models_path: {models_path}\")\n",
        "print(f\"output_path: {output_path}\")\n",
        "print(f\"config_path: {config_path}\")\n",
        "print(f\"embeddings_path: {embeddings_path}\")"
      ]
    },
    {
      "cell_type": "markdown",
      "metadata": {
        "id": "3JkrcrPBza-M"
      },
      "source": [
        "## 2 Optional - Set webUI settings and configs before running"
      ]
    },
    {
      "cell_type": "code",
      "execution_count": null,
      "metadata": {
        "cellView": "form",
        "id": "goUvyTZ4zd4l"
      },
      "outputs": [],
      "source": [
        "# @markdown # Advanced | Launch preferences\n",
        "# @markdown # 詳細設定\n",
        "\n",
        "# @markdown Click here for more information -> https://github.com/AUTOMATIC1111/stable-diffusion-webui/wiki/Optimizations\n",
        "# @markdown > 詳しい情報はこちらから -> https://github.com/AUTOMATIC1111/stable-diffusion-webui/wiki/Optimizations\n",
        "\n",
        "# @markdown &nbsp;\n",
        "\n",
        "no_half = False  # @param {type:\"boolean\"}\n",
        "# @markdown * Do not switch the model to 16-bit floats\n",
        "# @markdown > モデルを16ビットfloatに切り替えない\n",
        "\n",
        "# @markdown &nbsp;\n",
        "no_half_vae = False # @param {type:\"boolean\"}\n",
        "# @markdown * Do not switch the VAE model to 16-bit floats\n",
        "# @markdown > VAEモデルを16ビットfloatに切り替えない\n",
        "\n",
        "# @markdown &nbsp;\n",
        "allow_code = False # @param {type:\"boolean\"}\n",
        "# @markdown * Allow custom script execution from webui\n",
        "# @markdown > Webuiからのカスタムスクリプトの実行を許可する\n",
        "\n",
        "# @markdown &nbsp;\n",
        "no_progressbar_hiding = False  # @param {type:\"boolean\"}\n",
        "# @markdown * Do not hide progressbar in gradio UI (we hide it because it slows down ML if you have hardware acceleration in browser)\n",
        "# @markdown > プログレスバーを非表示にしない (ブラウザにハードウェアアクセラレーションが場合MLが遅くなるため非表示にすることを推奨します)\n",
        "\n",
        "# @markdown &nbsp;\n",
        "medvram = False  # @param {type:\"boolean\"}\n",
        "# @markdown * Makes the Stable Diffusion model consume less VRAM by splitting it into three parts - cond (for transforming text into numerical representation), first_stage (for converting a picture into latent space and back), and unet (for actual denoising of latent space) and making it so that only one is in VRAM at all times, sending others to CPU RAM. Lowers performance, but only by a bit - except if live previews are enabled.\n",
        "# @markdown > Stable Diffusion モデルが VRAM の消費を少なくするために、cond(テキストを数値表現に変換するため)、first_stage(画像を潜在空間に変換して元に戻すため)、およびunet(潜在空間の実際のノイズ除去のため) の3つの部分に分割し、 常に1つだけがVRAMにあり、残りはCPU RAMに送信されるようにします。 (パフォーマンスが少し低下します。ライブプレビューが有効になっている場合さらに性能低下が大きくなります。)\n",
        "\n",
        "# @markdown &nbsp;\n",
        "lowvram = False  # @param {type:\"boolean\"}\n",
        "# @markdown * An even more thorough optimization of the above, splitting unet into many modules, and only one module is kept in VRAM. Devastating for performance.\n",
        "# @markdown > `medvram`をさらに徹底的に最適化し、unetを多くのモジュールに分割し、1つのモジュールのみをVRAMに保持します。 パフォーマンスは壊滅的。\n",
        "\n",
        "# @markdown &nbsp;\n",
        "deepdanbooru = True # @param {type:\"boolean\"}\n",
        "# @markdown * Enable deepdanbooru interrogator\n",
        "# @markdown > Deepdanbooru interrogator を有効にする\n",
        "\n",
        "# @markdown &nbsp;\n",
        "disable_opt_split_attention = False  # @param {type:\"boolean\"}\n",
        "# @markdown * Force-disables cross-attention layer optimization.\n",
        "# @markdown > クロスアテンションレイヤーの最適化を強制的に無効にします。\n",
        "\n",
        "# @markdown &nbsp;\n",
        "custom_arguments = \"--enable-console-prompts\" # @param {type:\"string\"}\n",
        "# @markdown * Argument added at the end when starting webui\n",
        "# @markdown > webui起動時に一番後ろに追加される引数\n",
        "\n",
        "run_string_with_variables = {\n",
        "    \"--no-half\": f\"{no_half}\",\n",
        "    \"--no-half-vae\": f\"{no_half_vae}\",\n",
        "    \"--allow-code\": f\"{allow_code}\",\n",
        "    \"--no-progressbar-hiding\": f\"{no_progressbar_hiding}\",\n",
        "    \"--medvram\": f\"{medvram}\",\n",
        "    \"--lowvram\": f\"{lowvram}\",\n",
        "    \"--deepdanbooru\": f\"{deepdanbooru}\",\n",
        "    \"--disable-opt-split-attention\": f\"{disable_opt_split_attention}\",\n",
        "}\n",
        "\n",
        "advanced_options = {k for (k, v) in run_string_with_variables.items() if v == \"True\"}"
      ]
    },
    {
      "cell_type": "markdown",
      "metadata": {
        "id": "htQtwGXHTaob"
      },
      "source": [
        "## 3 - Launch WebUI for stable diffusion"
      ]
    },
    {
      "cell_type": "code",
      "execution_count": null,
      "metadata": {
        "cellView": "form",
        "id": "Y4ebYsPqTrGb"
      },
      "outputs": [],
      "source": [
        "# @markdown keep in mind that this script is set to run for ever.\n",
        "# @markdown > ※注意 このスクリプトは永久に実行されます。\n",
        "\n",
        "# @markdown &nbsp;\n",
        "\n",
        "# @markdown ## Optional | Ngrok Tunnel \n",
        "# @markdown > オプション | Ngrokのトンネルを起動する\n",
        "\n",
        "# @markdown Use Ngrok tunneling for more stable communication. To use this, you need to [sign up](https://ngrok.com/) for Ngrok and [get a token](https://dashboard.ngrok.com/get-started/setup).\n",
        "# @markdown > より安定した通信のために Ngrok トンネリングを使用します。 これを使用するには、Ngrok に[サインアップ](https://ngrok.com/) して[トークンを取得](https://dashboard.ngrok.com/get-started/setup) する必要があります。\n",
        "\n",
        "use_ngrok = False  # @param {type: \"boolean\"}\n",
        "ngrok_auth_token = \"\"  # @param {type: \"string\"}\n",
        "ngrok_region = \"us\"  # @param [\"us\", \"eu\", \"au\", \"ap\", \"sa\", \"jp\", \"in\"]\n",
        "\n",
        "# @markdown &nbsp;\n",
        "\n",
        "# @markdown ## Recommended | Enable password authentication (Prevent other users from using the WebUI)\n",
        "# @markdown > 推奨 | パスワード認証を有効にする (WebUIが他のユーザーによって使用されないようにします)  \n",
        "\n",
        "use_gradio_auth = True # @param {type:\"boolean\"}\n",
        "gradio_auth_username = \"username\" # @param {type:\"string\"}\n",
        "gradio_auth_password = \"password\" # @param {type:\"string\"}\n",
        "\n",
        "# @markdown &nbsp;\n",
        "\n",
        "# @markdown ## First load the model specified by `model_filename`\n",
        "# @markdown > `model_filename`で指定したモデルをはじめにロードする\n",
        "specify_model = False # @param {type:\"boolean\"}\n",
        "\n",
        "vars = \" \".join(advanced_options)\n",
        "if not use_ngrok:\n",
        "    vars += \" --share\"\n",
        "else:\n",
        "    vars += f\" --ngrok {ngrok_auth_token} --ngrok-region {ngrok_region}\"\n",
        "\n",
        "if specify_model:\n",
        "    vars += f\" --ckpt {models_path}/{model_filename}\"\n",
        "\n",
        "if use_gradio_auth:\n",
        "    vars += f\" --gradio-auth {gradio_auth_username}:{gradio_auth_password}\"\n",
        "\n",
        "if use_xformers:\n",
        "    vars += \" --xformers\"\n",
        "\n",
        "\n",
        "import os\n",
        "\n",
        "transformers_offline = False # @param {type: \"boolean\"}\n",
        "os.environ['TRANSFORMERS_OFFLINE'] = \"1\" if transformers_offline else \"0\"\n",
        "os.environ['COMMANDLINE_ARGS'] = f\"\"\"\n",
        "--ckpt-dir {models_path} \\\n",
        "--ui-config-file {config_path}/ui-config.json \\\n",
        "--ui-settings-file {config_path}/config.json \\\n",
        "--styles-file {config_path}/styles.csv \\\n",
        "--embeddings-dir {embeddings_path} \\\n",
        "{vars} \\\n",
        "{custom_arguments}\n",
        "\"\"\"\n",
        "os.environ['REQS_FILE'] = \"requirements.txt\"\n",
        "\n",
        "# @markdown &nbsp;\n",
        "\n",
        "# @markdown ## Important - click the public URL to launch WebUI in another tab\n",
        "# @markdown > ### 重要 - 公開URLをクリックしてWebUIを起動してください\n",
        "\n",
        "# @markdown ![](https://user-images.githubusercontent.com/71378929/189563599-6df78bcf-133b-41e8-a55d-8ca3783cd933.png)\n",
        "\n",
        "%cd /content/stable-diffusion-webui/\n",
        "! git pull\n",
        "! python launch.py"
      ]
    }
  ],
  "metadata": {
    "accelerator": "GPU",
    "colab": {
      "collapsed_sections": [],
      "machine_shape": "hm",
      "name": "automatic1111-stable-diffusion-webui",
      "provenance": [],
      "include_colab_link": true
    },
    "kernelspec": {
      "display_name": "Python 3.10.5 64-bit",
      "language": "python",
      "name": "python3"
    },
    "language_info": {
      "name": "python",
      "version": "3.10.5"
    },
    "vscode": {
      "interpreter": {
        "hash": "a162c579ae611c46b3f917020f03078da6a8872353b51058912d08182f7284c9"
      }
    }
  },
  "nbformat": 4,
  "nbformat_minor": 0
}