{
 "cells": [
  {
   "cell_type": "markdown",
   "metadata": {},
   "source": [
    "# CoLab-compatible version of stable-diffusion-webui\n",
    "Stable Diffusion webui scripts for Colab\n",
    "\n",
    "# Notebooks\n",
    "\n",
    "|Repository|CoLaboratory URL|\n",
    "|-|-|\n",
    "|[sd-webui](https://github.com/sd-webui/stable-diffusion-webui)|[![](https://img.shields.io/static/v1?message=Open%20in%20Colab&logo=googlecolab&labelColor=5c5c5c&color=0f80c1&label=%20&style=for-the-badge)](https://colab.research.google.com/github/ddPn08/stable-diffusion-webui-colab/blob/main/sd-webui.ipynb)|\n",
    "\n",
    "# Respect\n",
    "[stable-diffusion-webui](https://github.com/sd-webui/stable-diffusion-webui)  \n",
    "[sd-webui-colab](https://github.com/altryne/sd-webui-colab)  \n"
   ]
  }
 ],
 "metadata": {
  "kernelspec": {
   "display_name": "Python 3.10.5 64-bit",
   "language": "python",
   "name": "python3"
  },
  "language_info": {
   "name": "python",
   "version": "3.10.5"
  },
  "orig_nbformat": 4,
  "vscode": {
   "interpreter": {
    "hash": "a162c579ae611c46b3f917020f03078da6a8872353b51058912d08182f7284c9"
   }
  }
 },
 "nbformat": 4,
 "nbformat_minor": 2
}
